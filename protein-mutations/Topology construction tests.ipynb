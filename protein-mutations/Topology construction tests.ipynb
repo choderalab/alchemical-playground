{
 "metadata": {
  "name": "Topology construction tests"
 },
 "nbformat": 3,
 "nbformat_minor": 0,
 "worksheets": [
  {
   "cells": [
    {
     "cell_type": "code",
     "collapsed": false,
     "input": [
      "from simtk.openmm import app\n",
      "import simtk.openmm\n",
      "import simtk.unit as units\n",
      "import numpy"
     ],
     "language": "python",
     "metadata": {},
     "outputs": [],
     "prompt_number": 1
    },
    {
     "cell_type": "code",
     "collapsed": false,
     "input": [
      "topology = app.Topology()"
     ],
     "language": "python",
     "metadata": {},
     "outputs": [],
     "prompt_number": 2
    },
    {
     "cell_type": "code",
     "collapsed": false,
     "input": [
      "chain = topology.addChain()"
     ],
     "language": "python",
     "metadata": {},
     "outputs": [],
     "prompt_number": 3
    },
    {
     "cell_type": "code",
     "collapsed": false,
     "input": [
      "sequence = ['ACE', 'ALA', 'NME']\n",
      "for resname in sequence:\n",
      "    residue = topology.addResidue(resname, chain)"
     ],
     "language": "python",
     "metadata": {},
     "outputs": [],
     "prompt_number": 4
    },
    {
     "cell_type": "code",
     "collapsed": false,
     "input": [
      "forcefield = app.ForceField('amber96.xml')"
     ],
     "language": "python",
     "metadata": {},
     "outputs": [],
     "prompt_number": 5
    },
    {
     "cell_type": "code",
     "collapsed": false,
     "input": [],
     "language": "python",
     "metadata": {},
     "outputs": [],
     "prompt_number": 5
    },
    {
     "cell_type": "code",
     "collapsed": false,
     "input": [
      "for residue in topology.residues():\n",
      "    print residue.name\n",
      "    print residue._atoms\n",
      "    "
     ],
     "language": "python",
     "metadata": {},
     "outputs": [
      {
       "output_type": "stream",
       "stream": "stdout",
       "text": [
        "ACE\n",
        "[]\n",
        "ALA\n",
        "[]\n",
        "NME\n",
        "[]\n"
       ]
      }
     ],
     "prompt_number": 6
    },
    {
     "cell_type": "code",
     "collapsed": false,
     "input": [
      "print forcefield._templates.keys()\n",
      "print forcefield._templates['ALA'].atoms\n",
      "print forcefield._templates['ALA'].atoms[0].name\n",
      "print forcefield._templates['ALA'].atoms[0].element"
     ],
     "language": "python",
     "metadata": {},
     "outputs": [
      {
       "output_type": "stream",
       "stream": "stdout",
       "text": [
        "['NMET', 'CLEU', 'CTRP', 'DCN', 'RU', 'GLN', 'LYS', 'RAN', 'PRO', 'NGLN', 'NILE', 'NGLU', 'RG', 'RA', 'RC', 'NLEU', 'LYN', 'NGLY', 'NPRO', 'VAL', 'THR', 'RA5', 'RA3', 'NVAL', 'DC5', 'DC3', 'NTRP', 'PHE', 'NCYS', 'NCYX', 'TYR', 'NTHR', 'DTN', 'CPHE', 'NHIE', 'NHID', 'MG2', 'NHE', 'NLYS', 'NHIP', 'RGN', 'CGLU', 'CGLY', 'CGLN', 'NARG', 'RU5', 'NTYR', 'CPRO', 'Cs+', 'TRP', 'NSER', 'NASP', 'RG3', 'RG5', 'NPHE', 'DT3', 'NASN', 'DT5', 'GLH', 'ILE', 'ACE', 'K+', 'CHIP', 'GLY', 'Rb+', 'RU3', 'GLU', 'CHID', 'CHIE', 'NALA', 'ASP', 'SER', 'CASN', 'DGN', 'CASP', 'DG', 'ASH', 'ASN', 'Cl-', 'CTHR', 'DG3', 'DG5', 'CARG', 'RUN', 'ALA', 'MET', 'NME', 'LEU', 'CSER', 'RC5', 'CCYS', 'CCYX', 'CMET', 'DC', 'DA', 'RCN', 'DT', 'CVAL', 'HIP', 'DAN', 'CYX', 'HID', 'HIE', 'CYM', 'CYS', 'Na+', 'Li+', 'DA5', 'CLYS', 'DA3', 'CILE', 'CTYR', 'RC3', 'ARG', 'CALA']\n",
        "[<simtk.openmm.app.forcefield._TemplateAtomData instance at 0x10f47e3b0>, <simtk.openmm.app.forcefield._TemplateAtomData instance at 0x10f47e440>, <simtk.openmm.app.forcefield._TemplateAtomData instance at 0x10f47e4d0>, <simtk.openmm.app.forcefield._TemplateAtomData instance at 0x10f47e560>, <simtk.openmm.app.forcefield._TemplateAtomData instance at 0x10f47e5f0>, <simtk.openmm.app.forcefield._TemplateAtomData instance at 0x10f47e680>, <simtk.openmm.app.forcefield._TemplateAtomData instance at 0x10f47e710>, <simtk.openmm.app.forcefield._TemplateAtomData instance at 0x10f47e7a0>, <simtk.openmm.app.forcefield._TemplateAtomData instance at 0x10f47e830>, <simtk.openmm.app.forcefield._TemplateAtomData instance at 0x10f47e8c0>]\n",
        "N\n",
        "<simtk.openmm.app.element.Element instance at 0x108675128>\n"
       ]
      }
     ],
     "prompt_number": 7
    },
    {
     "cell_type": "code",
     "collapsed": false,
     "input": [
      "# Make deep copy of templates\n",
      "import copy\n",
      "templates = copy.deepcopy(forcefield._templates) # uses private data\n",
      "\n",
      "# Build topology from sequence using forcefield residue templates.\n",
      "from simtk.openmm.app import element\n",
      "sequence = ['ACE', 'ALA', 'NME']\n",
      "#sequence = ['ALA', 'ALA', 'ALA']\n",
      "topology = app.Topology()\n",
      "chain = topology.addChain()\n",
      "for resname in sequence:\n",
      "    # Add non-hydrogen atoms from residue template.\n",
      "    residue = topology.addResidue(resname, chain)\n",
      "    atoms = templates[resname].atoms\n",
      "    for atom in atoms:\n",
      "        topology.addAtom(atom.name, atom.element, residue)\n",
      "        \n",
      "# Replace residue and atom names with standard PDB names.\n",
      "from simtk.openmm.app import PDBFile\n",
      "PDBFile._loadNameReplacementTables()\n",
      "for residue in topology.residues():\n",
      "    if residue.name in PDBFile._residueNameReplacements:\n",
      "        residue.name = PDBFile._residueNameReplacements[residue.name]\n",
      "    if residue.name in PDBFile._atomNameReplacements:                                                                                                                                                                                                                                \n",
      "        atomReplacements = PDBFile._atomNameReplacements[residue.name]\n",
      "        for atom in residue.atoms():\n",
      "            if atom.name in atomReplacements:\n",
      "                atom.name = atomReplacements[atom.name] \n",
      "                \n",
      "# Create bonds using residues.xml\n",
      "topology.createStandardBonds()"
     ],
     "language": "python",
     "metadata": {},
     "outputs": [],
     "prompt_number": 38
    },
    {
     "cell_type": "code",
     "collapsed": false,
     "input": [
      "# Show topology.\n",
      "print \"Atoms:\"\n",
      "for residue in topology.residues():\n",
      "    print \"%5d %s\" % (residue.index, residue.name)    \n",
      "    for atom in residue._atoms:\n",
      "        print \"     %5d %8s %16s\" % (atom.index, atom.name, atom.element.name)\n",
      "print \"Bonds:\"\n",
      "for bond in topology.bonds():\n",
      "    print \"%5d %5d\" % (bond[0].index, bond[1].index)"
     ],
     "language": "python",
     "metadata": {},
     "outputs": [
      {
       "output_type": "stream",
       "stream": "stdout",
       "text": [
        "Atoms:\n",
        "    0 ACE\n",
        "         0       H1         hydrogen\n",
        "         1      CH3           carbon\n",
        "         2       H2         hydrogen\n",
        "         3       H3         hydrogen\n",
        "         4        C           carbon\n",
        "         5        O           oxygen\n",
        "    1 ALA\n",
        "         6        N         nitrogen\n",
        "         7        H         hydrogen\n",
        "         8       CA           carbon\n",
        "         9       HA         hydrogen\n",
        "        10       CB           carbon\n",
        "        11      HB1         hydrogen\n",
        "        12      HB2         hydrogen\n",
        "        13      HB3         hydrogen\n",
        "        14        C           carbon\n",
        "        15        O           oxygen\n",
        "    2 NME\n",
        "        16        N         nitrogen\n",
        "        17        H         hydrogen\n",
        "        18        C           carbon\n",
        "        19       H1         hydrogen\n",
        "        20       H2         hydrogen\n",
        "        21       H3         hydrogen\n",
        "Bonds:\n",
        "    4     1\n",
        "    4     5\n",
        "    1     0\n",
        "    1     2\n",
        "    1     3\n",
        "    4     6\n",
        "   14     8\n",
        "   14    15\n",
        "    8    10\n",
        "    8     9\n",
        "    8     6\n",
        "   10    11\n",
        "   10    12\n",
        "   10    13\n",
        "    7     6\n",
        "   14    16\n",
        "   18    19\n",
        "   18    20\n",
        "   18    21\n",
        "   18    16\n",
        "   17    16\n"
       ]
      }
     ],
     "prompt_number": 39
    },
    {
     "cell_type": "code",
     "collapsed": false,
     "input": [
      "system = forcefield.createSystem(topology)"
     ],
     "language": "python",
     "metadata": {},
     "outputs": [
      {
       "ename": "ValueError",
       "evalue": "No template found for residue 1 (ACE).  This might mean your input topology is missing some atoms or bonds, or possibly that you are using the wrong force field.",
       "output_type": "pyerr",
       "traceback": [
        "\u001b[0;31m---------------------------------------------------------------------------\u001b[0m\n\u001b[0;31mValueError\u001b[0m                                Traceback (most recent call last)",
        "\u001b[0;32m<ipython-input-40-4958084977f5>\u001b[0m in \u001b[0;36m<module>\u001b[0;34m()\u001b[0m\n\u001b[0;32m----> 1\u001b[0;31m \u001b[0msystem\u001b[0m \u001b[0;34m=\u001b[0m \u001b[0mforcefield\u001b[0m\u001b[0;34m.\u001b[0m\u001b[0mcreateSystem\u001b[0m\u001b[0;34m(\u001b[0m\u001b[0mtopology\u001b[0m\u001b[0;34m)\u001b[0m\u001b[0;34m\u001b[0m\u001b[0m\n\u001b[0m",
        "\u001b[0;32m/Users/choderaj/code/openmm/install/lib/python2.7/site-packages/simtk/openmm/app/forcefield.pyc\u001b[0m in \u001b[0;36mcreateSystem\u001b[0;34m(self, topology, nonbondedMethod, nonbondedCutoff, constraints, rigidWater, removeCMMotion, **args)\u001b[0m\n\u001b[1;32m    312\u001b[0m                             \u001b[0;32mbreak\u001b[0m\u001b[0;34m\u001b[0m\u001b[0m\n\u001b[1;32m    313\u001b[0m                 \u001b[0;32mif\u001b[0m \u001b[0mmatches\u001b[0m \u001b[0;32mis\u001b[0m \u001b[0mNone\u001b[0m\u001b[0;34m:\u001b[0m\u001b[0;34m\u001b[0m\u001b[0m\n\u001b[0;32m--> 314\u001b[0;31m                     \u001b[0;32mraise\u001b[0m \u001b[0mValueError\u001b[0m\u001b[0;34m(\u001b[0m\u001b[0;34m'No template found for residue %d (%s).  This might mean your input topology is missing some atoms or bonds, or possibly that you are using the wrong force field.'\u001b[0m \u001b[0;34m%\u001b[0m \u001b[0;34m(\u001b[0m\u001b[0mres\u001b[0m\u001b[0;34m.\u001b[0m\u001b[0mindex\u001b[0m\u001b[0;34m+\u001b[0m\u001b[0;36m1\u001b[0m\u001b[0;34m,\u001b[0m \u001b[0mres\u001b[0m\u001b[0;34m.\u001b[0m\u001b[0mname\u001b[0m\u001b[0;34m)\u001b[0m\u001b[0;34m)\u001b[0m\u001b[0;34m\u001b[0m\u001b[0m\n\u001b[0m\u001b[1;32m    315\u001b[0m                 \u001b[0;32mfor\u001b[0m \u001b[0matom\u001b[0m\u001b[0;34m,\u001b[0m \u001b[0mmatch\u001b[0m \u001b[0;32min\u001b[0m \u001b[0mzip\u001b[0m\u001b[0;34m(\u001b[0m\u001b[0mres\u001b[0m\u001b[0;34m.\u001b[0m\u001b[0matoms\u001b[0m\u001b[0;34m(\u001b[0m\u001b[0;34m)\u001b[0m\u001b[0;34m,\u001b[0m \u001b[0mmatches\u001b[0m\u001b[0;34m)\u001b[0m\u001b[0;34m:\u001b[0m\u001b[0;34m\u001b[0m\u001b[0m\n\u001b[1;32m    316\u001b[0m                     \u001b[0mdata\u001b[0m\u001b[0;34m.\u001b[0m\u001b[0matomType\u001b[0m\u001b[0;34m[\u001b[0m\u001b[0matom\u001b[0m\u001b[0;34m]\u001b[0m \u001b[0;34m=\u001b[0m \u001b[0mtemplate\u001b[0m\u001b[0;34m.\u001b[0m\u001b[0matoms\u001b[0m\u001b[0;34m[\u001b[0m\u001b[0mmatch\u001b[0m\u001b[0;34m]\u001b[0m\u001b[0;34m.\u001b[0m\u001b[0mtype\u001b[0m\u001b[0;34m\u001b[0m\u001b[0m\n",
        "\u001b[0;31mValueError\u001b[0m: No template found for residue 1 (ACE).  This might mean your input topology is missing some atoms or bonds, or possibly that you are using the wrong force field."
       ]
      }
     ],
     "prompt_number": 40
    },
    {
     "cell_type": "code",
     "collapsed": false,
     "input": [
      "system.getNumParticles()"
     ],
     "language": "python",
     "metadata": {},
     "outputs": [
      {
       "ename": "NameError",
       "evalue": "name 'system' is not defined",
       "output_type": "pyerr",
       "traceback": [
        "\u001b[0;31m---------------------------------------------------------------------------\u001b[0m\n\u001b[0;31mNameError\u001b[0m                                 Traceback (most recent call last)",
        "\u001b[0;32m<ipython-input-41-30cd0a545767>\u001b[0m in \u001b[0;36m<module>\u001b[0;34m()\u001b[0m\n\u001b[0;32m----> 1\u001b[0;31m \u001b[0msystem\u001b[0m\u001b[0;34m.\u001b[0m\u001b[0mgetNumParticles\u001b[0m\u001b[0;34m(\u001b[0m\u001b[0;34m)\u001b[0m\u001b[0;34m\u001b[0m\u001b[0m\n\u001b[0m",
        "\u001b[0;31mNameError\u001b[0m: name 'system' is not defined"
       ]
      }
     ],
     "prompt_number": 41
    },
    {
     "cell_type": "code",
     "collapsed": false,
     "input": [
      "forcefield._createResidueSignature([atom.element for atom in residue.atoms])"
     ],
     "language": "python",
     "metadata": {},
     "outputs": [
      {
       "ename": "AttributeError",
       "evalue": "'ForceField' object has no attribute '_createResidueSignature'",
       "output_type": "pyerr",
       "traceback": [
        "\u001b[0;31m---------------------------------------------------------------------------\u001b[0m\n\u001b[0;31mAttributeError\u001b[0m                            Traceback (most recent call last)",
        "\u001b[0;32m<ipython-input-47-e188a91accdf>\u001b[0m in \u001b[0;36m<module>\u001b[0;34m()\u001b[0m\n\u001b[0;32m----> 1\u001b[0;31m \u001b[0mforcefield\u001b[0m\u001b[0;34m.\u001b[0m\u001b[0m_createResidueSignature\u001b[0m\u001b[0;34m(\u001b[0m\u001b[0;34m[\u001b[0m\u001b[0matom\u001b[0m\u001b[0;34m.\u001b[0m\u001b[0melement\u001b[0m \u001b[0;32mfor\u001b[0m \u001b[0matom\u001b[0m \u001b[0;32min\u001b[0m \u001b[0mresidue\u001b[0m\u001b[0;34m.\u001b[0m\u001b[0matoms\u001b[0m\u001b[0;34m]\u001b[0m\u001b[0;34m)\u001b[0m\u001b[0;34m\u001b[0m\u001b[0m\n\u001b[0m",
        "\u001b[0;31mAttributeError\u001b[0m: 'ForceField' object has no attribute '_createResidueSignature'"
       ]
      }
     ],
     "prompt_number": 47
    },
    {
     "cell_type": "markdown",
     "metadata": {},
     "source": [
      "PDB chemical components:\n",
      "http://ligand-expo.rcsb.org/ld-download.html"
     ]
    },
    {
     "cell_type": "code",
     "collapsed": false,
     "input": [
      "import xml.etree.ElementTree as etree\n",
      "xml_filename = 'components-pub-xml/ACE.xml'\n",
      "tree = etree.parse(xml_filename)\n",
      "PDBx = '{http://pdbml.pdb.org/schema/pdbx-v40.xsd}'\n",
      "for node in tree.findall(\"./\" + PDBx + \"chem_comp_atomCategory/*\"):\n",
      "    atom_name = node.attrib['atom_id']\n",
      "    element_name = node.find(PDBx + 'type_symbol').text\n",
      "    element = app.element.Element.getBySymbol(element_name)\n",
      "    print \"%8s %8s %32s\" % (atom_name, element_name, element.name)"
     ],
     "language": "python",
     "metadata": {},
     "outputs": [
      {
       "output_type": "stream",
       "stream": "stdout",
       "text": [
        "       C        C                           carbon\n",
        "       O        O                           oxygen\n",
        "     CH3        C                           carbon\n",
        "       H        H                         hydrogen\n",
        "      H1        H                         hydrogen\n",
        "      H2        H                         hydrogen\n",
        "      H3        H                         hydrogen\n"
       ]
      }
     ],
     "prompt_number": 141
    },
    {
     "cell_type": "code",
     "collapsed": false,
     "input": [
      "print tree.getroot()"
     ],
     "language": "python",
     "metadata": {},
     "outputs": [
      {
       "output_type": "stream",
       "stream": "stdout",
       "text": [
        "<Element '{http://pdbml.pdb.org/schema/pdbx-v40.xsd}datablock' at 0x10fd637d0>\n"
       ]
      }
     ],
     "prompt_number": 68
    },
    {
     "cell_type": "code",
     "collapsed": false,
     "input": [],
     "language": "python",
     "metadata": {},
     "outputs": [
      {
       "output_type": "pyout",
       "prompt_number": 139,
       "text": [
        "<module 'simtk.openmm.app.element' from '/Users/choderaj/code/openmm/install/lib/python2.7/site-packages/simtk/openmm/app/element.pyc'>"
       ]
      }
     ],
     "prompt_number": 139
    },
    {
     "cell_type": "code",
     "collapsed": false,
     "input": [
      "sequence = ['ACE', 'ALA', 'NME']\n",
      "\n",
      "# Build topology from sequence using PDB residue templates from chemical components database\n",
      "# http://ligand-expo.rcsb.org/ld-download.html\n",
      "import xml.etree.ElementTree as etree\n",
      "PDBx = '{http://pdbml.pdb.org/schema/pdbx-v40.xsd}'\n",
      "    \n",
      "topology = app.Topology()\n",
      "chain = topology.addChain()\n",
      "for resname in sequence:\n",
      "    # Add non-hydrogen atoms from residue template.\n",
      "    residue = topology.addResidue(resname, chain)\n",
      "    \n",
      "    # Add atoms.\n",
      "    xml_filename = 'components-pub-xml/' + resname + '.xml'\n",
      "    tree = etree.parse(xml_filename)\n",
      "    for node in tree.findall(\"./\" + PDBx + \"chem_comp_atomCategory/*\"):\n",
      "        atom_name = node.attrib['atom_id']\n",
      "        element_name = node.find(PDBx + 'type_symbol').text\n",
      "        element = app.element.Element.getBySymbol(element_name)\n",
      "        print \"%8d %8s %8s %32s\" % (topology._numAtoms, atom_name, element_name, element.name)\n",
      "        topology.addAtom(atom_name, element, residue)\n",
      "\n",
      "# Create bonds using residues.xml\n",
      "topology.createStandardBonds()"
     ],
     "language": "python",
     "metadata": {},
     "outputs": [
      {
       "output_type": "stream",
       "stream": "stdout",
       "text": [
        "       0        C        C                           carbon\n",
        "       1        O        O                           oxygen\n",
        "       2      CH3        C                           carbon\n",
        "       3        H        H                         hydrogen\n",
        "       4       H1        H                         hydrogen\n",
        "       5       H2        H                         hydrogen\n",
        "       6       H3        H                         hydrogen\n",
        "       7        N        N                         nitrogen\n",
        "       8       CA        C                           carbon\n",
        "       9        C        C                           carbon\n",
        "      10        O        O                           oxygen\n",
        "      11       CB        C                           carbon\n",
        "      12      OXT        O                           oxygen\n",
        "      13        H        H                         hydrogen\n",
        "      14       H2        H                         hydrogen\n",
        "      15       HA        H                         hydrogen\n",
        "      16      HB1        H                         hydrogen\n",
        "      17      HB2        H                         hydrogen\n",
        "      18      HB3        H                         hydrogen\n",
        "      19      HXT        H                         hydrogen\n",
        "      20        N        N                         nitrogen\n",
        "      21        C        C                           carbon\n",
        "      22      HN1        H                         hydrogen\n",
        "      23      HN2        H                         hydrogen\n",
        "      24       H1        H                         hydrogen\n",
        "      25       H2        H                         hydrogen\n",
        "      26       H3        H                         hydrogen\n"
       ]
      }
     ],
     "prompt_number": 159
    },
    {
     "cell_type": "code",
     "collapsed": false,
     "input": [
      "# Show topology.\n",
      "print \"Atoms:\"\n",
      "for residue in topology.residues():\n",
      "    print \"%5d %s\" % (residue.index, residue.name)    \n",
      "    for atom in residue._atoms:\n",
      "        print \"     %5d %8s %16s\" % (atom.index, atom.name, atom.element.name)\n",
      "print \"Bonds:\"\n",
      "for bond in topology.bonds():\n",
      "    print \"%5d %5d\" % (bond[0].index, bond[1].index)"
     ],
     "language": "python",
     "metadata": {},
     "outputs": [
      {
       "output_type": "stream",
       "stream": "stdout",
       "text": [
        "Atoms:\n",
        "    0 ACE\n",
        "         0        C           carbon\n",
        "         1        O           oxygen\n",
        "         2      CH3           carbon\n",
        "         3        H         hydrogen\n",
        "         4       H1         hydrogen\n",
        "         5       H2         hydrogen\n",
        "         6       H3         hydrogen\n",
        "    1 ALA\n",
        "         7        N         nitrogen\n",
        "         8       CA           carbon\n",
        "         9        C           carbon\n",
        "        10        O           oxygen\n",
        "        11       CB           carbon\n",
        "        12      OXT           oxygen\n",
        "        13        H         hydrogen\n",
        "        14       H2         hydrogen\n",
        "        15       HA         hydrogen\n",
        "        16      HB1         hydrogen\n",
        "        17      HB2         hydrogen\n",
        "        18      HB3         hydrogen\n",
        "        19      HXT         hydrogen\n",
        "    2 NME\n",
        "        20        N         nitrogen\n",
        "        21        C           carbon\n",
        "        22      HN1         hydrogen\n",
        "        23      HN2         hydrogen\n",
        "        24       H1         hydrogen\n",
        "        25       H2         hydrogen\n",
        "        26       H3         hydrogen\n",
        "Bonds:\n",
        "    0     2\n",
        "    0     3\n",
        "    0     1\n",
        "    2     4\n",
        "    2     5\n",
        "    2     6\n",
        "    0     7\n",
        "    9     8\n",
        "    9    10\n",
        "    9    12\n",
        "    8    11\n",
        "    8    15\n",
        "    8     7\n",
        "   11    16\n",
        "   11    17\n",
        "   11    18\n",
        "   13     7\n",
        "   14     7\n",
        "   19    12\n",
        "    9    20\n",
        "   21    24\n",
        "   21    25\n",
        "   21    26\n",
        "   21    20\n",
        "   23    20\n"
       ]
      }
     ],
     "prompt_number": 160
    },
    {
     "cell_type": "code",
     "collapsed": false,
     "input": [
      "system = forcefield.createSystem(topology)"
     ],
     "language": "python",
     "metadata": {},
     "outputs": [
      {
       "ename": "ValueError",
       "evalue": "No template found for residue 1 (ACE).  This might mean your input topology is missing some atoms or bonds, or possibly that you are using the wrong force field.",
       "output_type": "pyerr",
       "traceback": [
        "\u001b[0;31m---------------------------------------------------------------------------\u001b[0m\n\u001b[0;31mValueError\u001b[0m                                Traceback (most recent call last)",
        "\u001b[0;32m<ipython-input-163-4958084977f5>\u001b[0m in \u001b[0;36m<module>\u001b[0;34m()\u001b[0m\n\u001b[0;32m----> 1\u001b[0;31m \u001b[0msystem\u001b[0m \u001b[0;34m=\u001b[0m \u001b[0mforcefield\u001b[0m\u001b[0;34m.\u001b[0m\u001b[0mcreateSystem\u001b[0m\u001b[0;34m(\u001b[0m\u001b[0mtopology\u001b[0m\u001b[0;34m)\u001b[0m\u001b[0;34m\u001b[0m\u001b[0m\n\u001b[0m",
        "\u001b[0;32m/Users/choderaj/code/openmm/install/lib/python2.7/site-packages/simtk/openmm/app/forcefield.pyc\u001b[0m in \u001b[0;36mcreateSystem\u001b[0;34m(self, topology, nonbondedMethod, nonbondedCutoff, constraints, rigidWater, removeCMMotion, **args)\u001b[0m\n\u001b[1;32m    312\u001b[0m                             \u001b[0;32mbreak\u001b[0m\u001b[0;34m\u001b[0m\u001b[0m\n\u001b[1;32m    313\u001b[0m                 \u001b[0;32mif\u001b[0m \u001b[0mmatches\u001b[0m \u001b[0;32mis\u001b[0m \u001b[0mNone\u001b[0m\u001b[0;34m:\u001b[0m\u001b[0;34m\u001b[0m\u001b[0m\n\u001b[0;32m--> 314\u001b[0;31m                     \u001b[0;32mraise\u001b[0m \u001b[0mValueError\u001b[0m\u001b[0;34m(\u001b[0m\u001b[0;34m'No template found for residue %d (%s).  This might mean your input topology is missing some atoms or bonds, or possibly that you are using the wrong force field.'\u001b[0m \u001b[0;34m%\u001b[0m \u001b[0;34m(\u001b[0m\u001b[0mres\u001b[0m\u001b[0;34m.\u001b[0m\u001b[0mindex\u001b[0m\u001b[0;34m+\u001b[0m\u001b[0;36m1\u001b[0m\u001b[0;34m,\u001b[0m \u001b[0mres\u001b[0m\u001b[0;34m.\u001b[0m\u001b[0mname\u001b[0m\u001b[0;34m)\u001b[0m\u001b[0;34m)\u001b[0m\u001b[0;34m\u001b[0m\u001b[0m\n\u001b[0m\u001b[1;32m    315\u001b[0m                 \u001b[0;32mfor\u001b[0m \u001b[0matom\u001b[0m\u001b[0;34m,\u001b[0m \u001b[0mmatch\u001b[0m \u001b[0;32min\u001b[0m \u001b[0mzip\u001b[0m\u001b[0;34m(\u001b[0m\u001b[0mres\u001b[0m\u001b[0;34m.\u001b[0m\u001b[0matoms\u001b[0m\u001b[0;34m(\u001b[0m\u001b[0;34m)\u001b[0m\u001b[0;34m,\u001b[0m \u001b[0mmatches\u001b[0m\u001b[0;34m)\u001b[0m\u001b[0;34m:\u001b[0m\u001b[0;34m\u001b[0m\u001b[0m\n\u001b[1;32m    316\u001b[0m                     \u001b[0mdata\u001b[0m\u001b[0;34m.\u001b[0m\u001b[0matomType\u001b[0m\u001b[0;34m[\u001b[0m\u001b[0matom\u001b[0m\u001b[0;34m]\u001b[0m \u001b[0;34m=\u001b[0m \u001b[0mtemplate\u001b[0m\u001b[0;34m.\u001b[0m\u001b[0matoms\u001b[0m\u001b[0;34m[\u001b[0m\u001b[0mmatch\u001b[0m\u001b[0;34m]\u001b[0m\u001b[0;34m.\u001b[0m\u001b[0mtype\u001b[0m\u001b[0;34m\u001b[0m\u001b[0m\n",
        "\u001b[0;31mValueError\u001b[0m: No template found for residue 1 (ACE).  This might mean your input topology is missing some atoms or bonds, or possibly that you are using the wrong force field."
       ]
      }
     ],
     "prompt_number": 163
    },
    {
     "cell_type": "code",
     "collapsed": false,
     "input": [],
     "language": "python",
     "metadata": {},
     "outputs": [],
     "prompt_number": 161
    },
    {
     "cell_type": "code",
     "collapsed": false,
     "input": [],
     "language": "python",
     "metadata": {},
     "outputs": []
    }
   ],
   "metadata": {}
  }
 ]
}